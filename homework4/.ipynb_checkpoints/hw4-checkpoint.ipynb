{
 "cells": [
  {
   "cell_type": "markdown",
   "id": "21a1f0d2-d75c-4443-b816-1d1db3760454",
   "metadata": {},
   "source": [
    "# HW 4 - Functions \n",
    "ULAB - Physics and Astronomy Division \\\n",
    "Due **Wednesday, October 16th, 2024 at 11:59pm** on Gradescope\n",
    "\n",
    "### Once you are done with this homework, make sure to include a screenshot of you pushing this notebook inside of your homework4 branch. Make sure to include this screenshot in your branch before submitting to Gradescope!\n",
    "\n",
    "### If there is no screenshot, then you will recieve a zero! \n",
    "\n",
    "Hello ULAB! For this homework assigment you will continue practicing how Python handles variables, data types, functions, comments and operations! We will also touch on comments, naming conventions and hardcoding. The objective for this homework is to practice writing Python code in a structured and readable manner!\n",
    "\n",
    "Since data types were primarily covered during homework 3, we will not spend a lot of time reviewing them in this homework. Refer to Lecture #4 or ask the internet if you forget!"
   ]
  },
  {
   "cell_type": "markdown",
   "id": "8dc7e46b-1e8e-486c-a2e9-d615c687028b",
   "metadata": {},
   "source": [
    "# 1 Good Coding Practices and Debugging\n",
    "Make sure that you don't repeat any variable, function or argument names. Its a good practice to have unique names for each of these throughout an entire notebook or project! \n",
    "\n",
    "In the comment below include at least 3 bugs you ran into during this homework assignment. Give the error message, what the error message means (google it) and how you fixed the problem.  "
   ]
  },
  {
   "cell_type": "code",
   "execution_count": 151,
   "id": "08dabd73-3dbc-4aab-843a-d4b81102835d",
   "metadata": {},
   "outputs": [
    {
     "ename": "SyntaxError",
     "evalue": "invalid syntax (3163768207.py, line 1)",
     "output_type": "error",
     "traceback": [
      "\u001b[1;36m  Cell \u001b[1;32mIn[151], line 1\u001b[1;36m\u001b[0m\n\u001b[1;33m    Cell In[2], line 1\u001b[0m\n\u001b[1;37m         ^\u001b[0m\n\u001b[1;31mSyntaxError\u001b[0m\u001b[1;31m:\u001b[0m invalid syntax\n"
     ]
    }
   ],
   "source": [
    " Cell In[2], line 1\n",
    "    def best_calculator_ever(x, y)\n",
    "                                  ^\n",
    "SyntaxError: expected ':'\n",
    "\n",
    "# Added a colon in defining function line (I forget that a lot when coding)\n",
    "\n",
    " Cell In[137], line 12\n",
    "    Evaluating different pairs of numbers (local variables). To evaluate others, simply copy/paste code and change x & y\n",
    "               ^\n",
    "SyntaxError: invalid syntax\n",
    "\n",
    "# I forgot to put the hashtag before the explanation of code, so I added it\n",
    "\n",
    "  Cell In[141], line 9\n",
    "    return kelvin\n",
    "    ^\n",
    "SyntaxError: 'return' outside function\n",
    "\n",
    "# Third error is I accidentally added a space after the indent; return is only inside the function if it is indented once, not twice or more, and without any other spaces\n"
   ]
  },
  {
   "cell_type": "markdown",
   "id": "5e1ba0c0-5dd9-44e8-895c-73a36d614949",
   "metadata": {},
   "source": [
    "# 2 Arithmetic Operations\n",
    "**Arithmetic Operations** allow you to perform mathematical calculations inside of Python (just like a calculator).  "
   ]
  },
  {
   "cell_type": "markdown",
   "id": "ef6d2845-2d80-4517-aa70-0e0b2d9e7882",
   "metadata": {},
   "source": [
    "## 2.1 Arithmetic Function\n",
    "Write a function called that takes two numbers (`a` and `b`) as arguments and returns a list or tuple with:\n",
    "\n",
    "- The sum of `a` and `b`\n",
    "- The difference when `b` is subtracted from `a`\n",
    "- The product of `a` and `b`\n",
    "- The division of `a` by `b` (normal division)\n",
    "- The floor division of `a` by `b`\n",
    "- The remainder when `a` is divided by `b`\n",
    "- `a` raised to the power of `b`\n",
    "\n",
    "Don't forget to include a comment describing what the function is doing! Use a different function name than me! And make sure to show multiple test cases (inputs), including the one I gave you (num_1 = 10, num_2 = 3).\n",
    "\n",
    "Example:\n",
    "\n",
    "```\n",
    ">>> def arithmetic_operations(num_1, num_2):\n",
    "...     # Your comment here\n",
    "...     # Your code here\n",
    "...     return # Your code here\n",
    "\n",
    ">>> a = 10\n",
    ">>> b = 3\n",
    ">>> operations = arithmetic_operations(num_1 = a, num_2 = b)\n",
    ">>> print(operations)\n",
    "\n",
    "(13, 7, 30, 3.3333333333333335, 3, 1, 1000) \n",
    "```"
   ]
  },
  {
   "cell_type": "code",
   "execution_count": 139,
   "id": "f8526535-a6a9-46be-83d3-658ad4500762",
   "metadata": {},
   "outputs": [
    {
     "name": "stdout",
     "output_type": "stream",
     "text": [
      "(13, 7, 30, 3.3333333333333335, 3, 1, 1000)\n",
      "(11, -1, 30, 0.8333333333333334, 0, 5, 15625)\n",
      "(44, -4, 480, 0.8333333333333334, 0, 20, 16777216000000000000000000000000)\n"
     ]
    }
   ],
   "source": [
    "def multi_use_calculator(n_1, n_2): # Applies all operations to pair of given numbers\n",
    "    return (  \n",
    "        x + y,          # Sum\n",
    "        x - y,          # Difference\n",
    "        x * y,          # Product\n",
    "        x / y,          # Division\n",
    "        x // y,         # Floor division\n",
    "        x % y,          # Remainder\n",
    "        x ** y          # X raised to the power of y\n",
    "    )\n",
    "\n",
    "# Evaluating different pairs of numbers (local variables). To evaluate others, simply copy/paste code and change x & y\n",
    "\n",
    "x = 10\n",
    "y = 3\n",
    "result = multi_use_calculator(n_1 = x, n_2 = y)\n",
    "print(result)\n",
    "\n",
    "x = 5\n",
    "y = 6\n",
    "result = multi_use_calculator(n_1 = x, n_2 = y)\n",
    "print(result)\n",
    "\n",
    "x = 20\n",
    "y = 24\n",
    "result = multi_use_calculator(n_1 = x, n_2 = y)\n",
    "print(result)\n"
   ]
  },
  {
   "cell_type": "markdown",
   "id": "9672e601-ce1a-4f2c-8de0-ce168ef0a12e",
   "metadata": {},
   "source": [
    "In the cell below (as a comment) describe your thinking process and how your function displays good *function writing processes* as described in lecture. Must be at least 2 sentences."
   ]
  },
  {
   "cell_type": "code",
   "execution_count": 8,
   "id": "b7eec35e-3263-4c40-a474-c0dfd924b764",
   "metadata": {},
   "outputs": [],
   "source": [
    "# I added blurbs to explain what I did\n",
    "# My titles for functions/variables are descriptive enough for me to know what they are\n",
    "# Did not combine steps\n",
    "# I tried putting more inputs into the function itself until I realized I could just define multiple pairs outside of it"
   ]
  },
  {
   "cell_type": "markdown",
   "id": "49eb4bc2-e109-46c7-8235-c53d269c358f",
   "metadata": {},
   "source": [
    "## 2.2 Increment by Five\n",
    "Write a function with assignment operators, that takes a number and returns the number incremented by 5 and multiplied by 3.\n",
    "\n",
    "Don't forget to include a comment describing what the function is doing! Use a different function name than me! And make sure to show multiple test cases (inputs), including the one I gave you (num_1 = 10).\n",
    "Example:\n",
    "```\n",
    ">>> def increment_and_multiply(num_1, num_2):\n",
    "...     # Your comment here\n",
    "...     # Your code here\n",
    "...     return # Your code here\n",
    "\n",
    ">>> x = 10\n",
    ">>> print(increment_by_5(x))\n",
    "60\n",
    "\n",
    "3(10 + 5) is not 60\n",
    "\n",
    "```"
   ]
  },
  {
   "cell_type": "code",
   "execution_count": 85,
   "id": "7de14ca3-65c2-463f-8345-529603368c0a",
   "metadata": {},
   "outputs": [
    {
     "name": "stdout",
     "output_type": "stream",
     "text": [
      "45\n",
      "60\n",
      "75\n"
     ]
    }
   ],
   "source": [
    "def plus_five_times_three(n): # Applies these operations to any real number n\n",
    "    \n",
    "    n += 5  # Increment the number by 5\n",
    "    n *= 3  # Multiply the new number by 3\n",
    "    return n\n",
    "\n",
    "n = 10\n",
    "result = increment_and_multiply(n)\n",
    "print(result)\n",
    "\n",
    "n = 15\n",
    "result = increment_and_multiply(n)\n",
    "print(result)\n",
    "\n",
    "n = 20\n",
    "result = increment_and_multiply(n)\n",
    "print(result)"
   ]
  },
  {
   "cell_type": "markdown",
   "id": "05c0bd02-7031-41b4-b598-178b883b9418",
   "metadata": {},
   "source": [
    "In the cell below (as a comment) describe your thinking process and the purpose of assignment operators. Must be at least 2 sentences."
   ]
  },
  {
   "cell_type": "code",
   "execution_count": 61,
   "id": "aba9e76c-4f39-4dd9-a533-457ac788b4d7",
   "metadata": {},
   "outputs": [
    {
     "name": "stdout",
     "output_type": "stream",
     "text": [
      "15\n"
     ]
    }
   ],
   "source": [
    "# Assignment operators in programming are used to assign values to variables. They combine an operation with the assignment of the result to a variable. An example of this would be \n",
    "\n",
    "x = 10\n",
    "x += 5\n",
    "\n",
    "print(x)\n",
    "\n",
    "# So 5 was added to 10.\n",
    "\n",
    "# Since the task was to add 5 to the number and then multiply by three, I used the corresponding operations on n inside the function.\n",
    "# Put operations in correct order, + 5 then * 3"
   ]
  },
  {
   "cell_type": "markdown",
   "id": "33b71724-2522-4ce9-8cb3-eb0ed6200d96",
   "metadata": {},
   "source": [
    "## 2.3 Setting a Range\n",
    "Write a function that takes in three arguments (x, low, high) and returns True if x is between low and high (inclusive), otherwise it returns False. Use comparison operator to check the three arguments!\n",
    "\n",
    "Don't forget to include a comment describing what the function is doing! And use a different function name than me!\n",
    "\n",
    "Example:\n",
    "```\n",
    ">>> def is_in_range(x, low, high):\n",
    "...     # Your comment here\n",
    "...     # Your code here\n",
    "...     return # Your code here\n",
    "\n",
    ">>> print(is_in_range(5, 1, 10))\n",
    "\n",
    "True\n",
    "\n",
    ">>> print(is_in_range(15, 1, 10))\n",
    "\n",
    "False\n",
    "```"
   ]
  },
  {
   "cell_type": "code",
   "execution_count": 98,
   "id": "6fccfc23-bb87-4390-9291-7f3269472573",
   "metadata": {},
   "outputs": [
    {
     "name": "stdout",
     "output_type": "stream",
     "text": [
      "True\n",
      "True\n",
      "False\n"
     ]
    }
   ],
   "source": [
    "def check_range(n, min, max): # Check to see if n is between specified range\n",
    "   \n",
    "    return min <= n <= max\n",
    "\n",
    "# Testing different values of n\n",
    "\n",
    "n = 5\n",
    "result = check_range(n, 1, 10)\n",
    "print(result)\n",
    "\n",
    "n = 10\n",
    "result = check_range(n, 1, 10)\n",
    "print(result)\n",
    "\n",
    "n = 15\n",
    "result = check_range(n, 1, 10)\n",
    "print(result)\n"
   ]
  },
  {
   "cell_type": "markdown",
   "id": "764fe405-5749-4237-bfae-27a616321954",
   "metadata": {},
   "source": [
    "In the cell below (as a comment) describe your thinking process and how your function displays good *function writing processes* as described in lecture. Must be at least 2 sentences."
   ]
  },
  {
   "cell_type": "code",
   "execution_count": 2,
   "id": "9b3c7ec6-8101-449e-b2a0-e2910b441b52",
   "metadata": {},
   "outputs": [],
   "source": [
    "# I didn't combine steps, I specified names for variables & function that wouldn't be confusing, & I added text to explain what I was doing. \n",
    "# Since it's inclusive of endpoints, assignment operator used (<=)."
   ]
  },
  {
   "cell_type": "markdown",
   "id": "242ced1e-1ed9-4b7a-ab2e-031daf67c8cb",
   "metadata": {},
   "source": [
    "## 2.4 Adding Strings Together\n",
    "Write a function that takes in at least 5 words and makes a sentence with proper grammar.\n",
    "\n",
    "Example:\n",
    "\n",
    "```\n",
    ">>> def making_sentences(a, b, c, d, e):\n",
    "...     # Your comment here\n",
    "...     # Your code here\n",
    "...     return # Your code here\n",
    "\n",
    ">>> a = \"Here\"\n",
    ">>> b = \"is\"\n",
    ">>> c = \"your\"\n",
    ">>> d = \"iced\"\n",
    ">>> e = \"latte\"\n",
    ">>> my_fav_sentence = making_sentences(a, b, c, d, e)\n",
    ">>> print(my_fav_sentence)\n",
    "\n",
    "'Here is your iced latte!'\n",
    "```"
   ]
  },
  {
   "cell_type": "code",
   "execution_count": 119,
   "id": "12165244-8b1a-4abc-b65d-10547db823d5",
   "metadata": {},
   "outputs": [
    {
     "name": "stdout",
     "output_type": "stream",
     "text": [
      "I am not a crook.\n"
     ]
    }
   ],
   "source": [
    "def richard_nixon_quote(a, b, c, d, e): # Generates sentence with five words\n",
    "\n",
    "    sentence = f\"{a} {b} {c} {d} {e}\".capitalize() + \".\"  # Capitalizes the first word and adds an exclamation mark, variables tied together in f-string to print in one line\n",
    "    return sentence\n",
    "\n",
    "w = \"I\"\n",
    "a = \"am\"\n",
    "t = \"not\"\n",
    "e = \"a\"\n",
    "r = \"crook\"\n",
    "\n",
    "sentence = richard_nixon_quote(w, a, t, e, r)\n",
    "print(sentence)"
   ]
  },
  {
   "cell_type": "markdown",
   "id": "75e1ebff-f910-40e3-9f9d-5988da68e107",
   "metadata": {},
   "source": [
    "# 3 Introduction to Scripting\n",
    "The act of **scripting** is glueing different pieces of code together. Let's practice!\n",
    "\n"
   ]
  },
  {
   "cell_type": "markdown",
   "id": "083add03-eaa2-4628-9dca-32f37dc8da9d",
   "metadata": {},
   "source": [
    "## 3.1 Define Multiple Functions\n",
    "Write two different functions:\n",
    "- One that converts celsius to fahrenheit\n",
    "- One that converts celsius to kelvin\n",
    "\n",
    "You will need to google these formulas if you don't know them off the top of your head! Because haha I don't know them."
   ]
  },
  {
   "cell_type": "code",
   "execution_count": 154,
   "id": "569001a8-f62a-4fdc-bebe-ec27f77f2385",
   "metadata": {},
   "outputs": [],
   "source": [
    " def celsius_to_fahrenheit(celsius): # Celsius to Fahrenheit\n",
    "\n",
    "    fahrenheit = (9/5) * celsius + 32\n",
    "    return fahrenheit\n",
    "\n",
    "def celsius_to_kelvin(celsius): # Celsius to Kelvin\n",
    "\n",
    "    kelvin = celsius + 273.15\n",
    "    return kelvin"
   ]
  },
  {
   "cell_type": "markdown",
   "id": "a7dbe056-b57e-4ae8-af3a-a38acf20ac95",
   "metadata": {},
   "source": [
    "## 3.2 Calling Upon Other Functions\n",
    "Write a function that takes the two functions you wrote above and calls on them. Have you function return the values. Print the answer below. \n",
    "\n",
    "Example:\n",
    "\n",
    "```\n",
    ">>> def my_function():\n",
    "...     # Your comment here\n",
    "...     fahrenheit = first_function() # Just an example, your code here\n",
    "...     kelvin = second_function() # Another example, your code here\n",
    "...     return # Your code here\n",
    "\n",
    ">>> print(my_function())\n",
    "```\n",
    "\n",
    "Include screaming snake case syntax if you think it applies to this question. If not, include a comment explaining why not. "
   ]
  },
  {
   "cell_type": "code",
   "execution_count": 135,
   "id": "299f6dd8-7dda-4465-96f7-712e9149e179",
   "metadata": {},
   "outputs": [
    {
     "name": "stdout",
     "output_type": "stream",
     "text": [
      "(77.0, 298.15)\n"
     ]
    }
   ],
   "source": [
    "def convert_celsius(temp_celsius): # Function converting Celsius into Fahrenheit & Kelvin\n",
    " \n",
    "    fahrenheit = celsius_to_fahrenheit(temp_celsius)  # Call the Celsius to Fahrenheit conversion\n",
    "    kelvin = celsius_to_kelvin(temp_celsius)          # Call the Celsius to Kelvin conversion\n",
    "  \n",
    "    return fahrenheit, kelvin\n",
    "\n",
    "temp_in_celsius = 25\n",
    "result = convert_celsius(temp_in_celsius)\n",
    "print(result)"
   ]
  },
  {
   "cell_type": "markdown",
   "id": "4f50c562-1890-4fc1-adce-246e2ed77719",
   "metadata": {},
   "source": [
    "# 4 Get Creative\n",
    "Write a function on something that is not covered in this notebook. For example: assignment/comparison operators that you haven't worked with yet, global vs. local variables (like when it would be a good idea to use a global variable), default arguments, or all of the above! But your function definitely doesn't have to include everything we didn't cover in this assignment, picking one thing is perfectly fine. \n",
    "\n",
    "Bonus points if you teach me something new. (No importing packages for this question, if you don't know what that means we will learn in the following weeks!)"
   ]
  },
  {
   "cell_type": "code",
   "execution_count": 126,
   "id": "0c65d553-05b5-4f2f-8312-3e9ff1550753",
   "metadata": {},
   "outputs": [
    {
     "name": "stdin",
     "output_type": "stream",
     "text": [
      "Enter the number of rows (m):  5\n",
      "Enter the number of columns (n):  5\n"
     ]
    },
    {
     "name": "stdout",
     "output_type": "stream",
     "text": [
      "[0, 0, 0, 0, 0]\n",
      "[0, 1, 2, 3, 4]\n",
      "[0, 2, 4, 6, 8]\n",
      "[0, 3, 6, 9, 12]\n",
      "[0, 4, 8, 12, 16]\n"
     ]
    }
   ],
   "source": [
    "def generate_2d_array(m, n): # Creates 2D array with m x n dimensions\n",
    "    array = [[i * j for j in range(n)] for i in range(m)] \n",
    "    return array\n",
    "\n",
    "# Interactive inputs\n",
    "\n",
    "m = int(input(\"Enter the number of rows (m): \"))\n",
    "n = int(input(\"Enter the number of columns (n): \"))\n",
    "\n",
    "result = generate_2d_array(m, n)\n",
    "\n",
    "for row in result:\n",
    "    print(row)"
   ]
  },
  {
   "cell_type": "markdown",
   "id": "8cf33b19-9bca-484e-8129-d8a4896a1bfa",
   "metadata": {},
   "source": [
    "# 5 Proper Submission\n",
    "To recieve full credit for this assignment make sure you do the following:\n",
    "1) Copy this jupter notebook from the `ulab_2024` repository into **YOUR** local `homework` branch.\n",
    "   \n",
    "3) Follow the tasks. Make sure to run all the cells so that all output is visible.\n",
    "   \n",
    "5) Push this notebook to your remote `homework4` branch. Refer to the lecture slides for more information.\n",
    "      \n",
    "6) **WARNING!! IF YOU DO NOT FOLLOW THIS STEP YOU WILL RECIEVE A ZERO!**\n",
    "   1) Take a screenshot of your command line when you `push` this notebook from your local `homework4` branch to your remote `homework4` branch. Make sure to prove that you are inside a branch besides `main` or `master` by calling `git branch` and make sure to prove that your `homework4` branch only contains the homework4 folder of Jupyter Notebook you copied over from `ulab_2024` (which can be done by calling `ls`). \n",
    "   3)  Include that screenshot in your remote branch when you upload your GitHub branch to Gradescope!\n",
    "  \n",
    "(Optional) Do you have any comments about this homework assigment or the class? Any questions you need answered? Please type them below. "
   ]
  },
  {
   "cell_type": "code",
   "execution_count": null,
   "id": "fe93d7e1-ab53-49bd-8b50-aba721d0d2d4",
   "metadata": {},
   "outputs": [],
   "source": [
    "# N/A"
   ]
  }
 ],
 "metadata": {
  "kernelspec": {
   "display_name": "Python 3 (ipykernel)",
   "language": "python",
   "name": "python3"
  },
  "language_info": {
   "codemirror_mode": {
    "name": "ipython",
    "version": 3
   },
   "file_extension": ".py",
   "mimetype": "text/x-python",
   "name": "python",
   "nbconvert_exporter": "python",
   "pygments_lexer": "ipython3",
   "version": "3.12.4"
  }
 },
 "nbformat": 4,
 "nbformat_minor": 5
}
